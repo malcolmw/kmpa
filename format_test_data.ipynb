{
 "cells": [
  {
   "cell_type": "code",
   "execution_count": 10,
   "metadata": {},
   "outputs": [],
   "source": [
    "import numpy as np\n",
    "import pandas as pd"
   ]
  },
  {
   "cell_type": "markdown",
   "metadata": {},
   "source": [
    "# Format a set of arrivals for testing"
   ]
  },
  {
   "cell_type": "code",
   "execution_count": 32,
   "metadata": {},
   "outputs": [],
   "source": [
    "n_events = 5\n",
    "lat_min, lat_max = 35, 36\n",
    "lon_min, lon_max = -118, -117\n",
    "depth_min, depth_max = 0, 30\n",
    "\n",
    "with pd.HDFStore(\"/home/malcolmw/google_drive/malcolm.white@usc.edu/data/events/scedc/h5/scedc_2018.h5\") as store:\n",
    "    events = store[\"events\"]\n",
    "    arrivals = store[\"arrivals\"]\n",
    "    \n",
    "events = events[\n",
    "     (events[\"lat\"] > lat_min)\n",
    "    &(events[\"lat\"] < lat_max)\n",
    "    &(events[\"lon\"] > lon_min)\n",
    "    &(events[\"lon\"] < lon_max)\n",
    "    &(events[\"depth\"] > depth_min)\n",
    "    &(events[\"depth\"] < depth_max)\n",
    "]\n",
    "\n",
    "event_ids = np.random.choice(events[\"event_id\"], n_events)\n",
    "arrivals = arrivals.set_index(\"event_id\").loc[event_ids]\n",
    "split = arrivals[\"station_id\"].str.split(\".\", expand=True)\n",
    "arrivals[\"network\"], arrivals[\"station\"] = split[0], split[1]\n",
    "arrivals = arrivals.drop(columns=[\"station_id\"])\n",
    "arrivals = arrivals.reset_index(drop=True)\n",
    "\n",
    "with pd.HDFStore(\"data/small_test/detections.h5\") as store:\n",
    "    store[\"detections\"] = arrivals"
   ]
  },
  {
   "cell_type": "markdown",
   "metadata": {},
   "source": [
    "# Format network geometry for testing"
   ]
  },
  {
   "cell_type": "code",
   "execution_count": 52,
   "metadata": {},
   "outputs": [],
   "source": [
    "with pd.HDFStore(\"/home/malcolmw/google_drive/malcolm.white@usc.edu/data/networks/scsn/stations_simple.h5\") as store:\n",
    "    stations = store[\"stations\"]\n",
    "    \n",
    "stations = stations.rename(columns={\"net\": \"network\", \"sta\": \"station\", \"lat\": \"latitude\", \"lon\": \"longitude\", \"elev\": \"elevation\"})\n",
    "stations = stations.set_index([\"network\", \"station\"])\n",
    "stations = stations.loc[stations.index.intersection(arrivals.set_index([\"network\", \"station\"]).index)]\n",
    "stations = stations.reset_index()\n",
    "\n",
    "with pd.HDFStore(\"data/small_test/stations.h5\") as store:\n",
    "    store[\"stations\"] = stations"
   ]
  },
  {
   "cell_type": "code",
   "execution_count": null,
   "metadata": {},
   "outputs": [],
   "source": []
  }
 ],
 "metadata": {
  "kernelspec": {
   "display_name": "Python [conda env:py37]",
   "language": "python",
   "name": "conda-env-py37-py"
  },
  "language_info": {
   "codemirror_mode": {
    "name": "ipython",
    "version": 3
   },
   "file_extension": ".py",
   "mimetype": "text/x-python",
   "name": "python",
   "nbconvert_exporter": "python",
   "pygments_lexer": "ipython3",
   "version": "3.7.6"
  }
 },
 "nbformat": 4,
 "nbformat_minor": 4
}
